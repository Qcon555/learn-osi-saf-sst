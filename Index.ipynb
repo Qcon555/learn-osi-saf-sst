{
 "cells": [
  {
   "cell_type": "markdown",
   "metadata": {
    "Collapsed": "false"
   },
   "source": [
    "<img src='https://gitlab.eumetsat.int/eumetlab/oceans/ocean-training/tools/frameworks/-/raw/main/img/OSI-SAF_banner.png' align='right' width='100%'/>"
   ]
  },
  {
   "cell_type": "markdown",
   "metadata": {},
   "source": [
    "<font color=\"#138D75\">**EUMETSAT OSI SAF Training Service**</font> <br>\n",
    "**Copyright:** 2023 EUMETSAT<br>\n",
    "**License:** MIT"
   ]
  },
  {
   "cell_type": "markdown",
   "metadata": {},
   "source": [
    "<html>\n",
    "  <div style=\"width:100%\">\n",
    "    <div style=\"float:left\"><a href=\"https://mybinder.org/v2/git/https%3A%2F%2Fgitlab.eumetsat.int%2Feumetlab%2Foceans%2Focean-training%2Fsensors%2Flearn-osi-saf-sst/HEAD?urlpath=%2Ftree%2FIndex.ipynb\"><img src=\"https://mybinder.org/badge_logo.svg\" alt=\"Open in Binder\"></a></div>\n",
    "    <div style=\"float:left\"><p>&emsp;</p></div>\n",
    "  </div>\n",
    "</html>"
   ]
  },
  {
   "cell_type": "markdown",
   "metadata": {},
   "source": [
    "<div class=\"alert alert-block alert-success\">\n",
    "<h3>Learn OSI SAF sea surface temperature: Introductory</h3></div>\n",
    "<hr>"
   ]
  },
  {
   "cell_type": "markdown",
   "metadata": {
    "Collapsed": "false"
   },
   "source": [
    "# Index for the learn-OSI-SAF-sst module\n",
    "\n",
    "### About \n",
    "\n",
    "The Satellite Application Facilities (SAFs) are dedicated centres of excellence for processing satellite data – hosted by a National Meteorological Service – which utilise specialist expertise from institutes based in Member States. EUMETSAT created Satellite Application Facilities (SAFs) to complement its Central Facilities capability in Darmstadt. The Ocean and Sea Ice Satellite Application Facility (OSI SAF) is one of eight EUMETSAT SAFs, which provide users with operational data and software products. More on SAFs can be read at www.eumetsat.int. \n",
    "\n",
    "The objective of the OSI SAF is the operational near real-time production and distribution of a coherent set of information, derived from earth observation satellites, and characterising the ocean surface and the energy fluxes through it: sea surface temperature, radiative fluxes, wind vector and sea ice characteristics. For some variables, the OSI SAF is also aiming at providing long term data records for climate applications, based on reprocessing activities. The sea surface temperature products include global and regional products, both from geostationary (GEO) and low orbit satellites (LEO). \n",
    "\n",
    "The OSI SAF consortium is hosted by Météo-France. The LEO global sea-ruafec temperature (SST) processing and the GEO SST processing are performed at the Low and Mid Latitudes processing facility (LML centre). The LML production subsytem is operated by Météo-France's Centre for Satellite Meteorology (MF/CMS) in Lannion, France; Ifremer centre in Brest, France, is in charge of near real-time distribution of OSI SAF Low and Mid Latitudes products via a FTP server.\n",
    "\n",
    "Users are highly recommended to register on the OSI SAF web Site  in order to get access to useful information, documentation and links, news, service messages, and access to the help desk.\n",
    "\n",
    "Further information on the sensor and its data can be found at <a href=\"https://osi-saf.eumetsat.int/\" target=\"_blank\">https://osi-saf.eumetsat.int/</a> and in the <a href=\"https://osi-saf.eumetsat.int/products/sea-surface-temperature-products\" target=\"_blank\">Sea Surface Temperature products</a> webpage.\n",
    "<hr>\n",
    "\n",
    "### Module outline\n",
    "\n",
    "The **learn-osi-saf-sst** module consists of a collection of Python-based Jupyter notebooks designed to demonstrate how to access and map different OSI SAF Sea Surface Temperature products. The module will introduce you to:\n",
    "\n",
    "* the specifics of the OSI SAF SST products\n",
    "* the ways in which you can access OSI SAF SST data\n",
    "* the parameters that OSI SAF SST products provide at level-2 and level-3\n",
    "* approaches to working with OSI SAF SST data in common use cases\n",
    "\n",
    "<hr>\n",
    "\n",
    "### How to use this material\n",
    "\n",
    "This module is based around a series of <a href=\"https://jupyter.org/\" target=\"_blank\">Jupyter Notebooks</a>. These support high-level interactive learning by allowing us to combine code, text descriptions and data visualisations. If you have not worked with Jupyter Notebooks before, please look at the\n",
    "\n",
    "<a href=\"./working-with-python/Intro_to_Python_and_Jupyter.ipynb\" target=\"_blank\">Introduction to Python and Project Jupyter</a> module to get a short introduction to their usage and benefits. Refer to this module's **README** for further information on how to set up Jupyter.\n",
    "\n",
    "This module is designed for:\n",
    "* <font color=\"#229954\">**introductory users**</font>, who have basic knowledge of Python and are new to using OSI-SAF data\n",
    "\n",
    "There is a suggested order in which to access the notebooks, and pre-requisites where applicable are listed at the top of each notebook. However, not all notebooks may be relevant for every user, so we have tried to make each one as self contained as possible.\n",
    "\n",
    "<hr>\n",
    "\n",
    "### Learning outcomes\n",
    "\n",
    "From this module, you can expect to learn:\n",
    "* How to access OSI SAF data from both the OSI SAF FTP data services, and IFREMER Opensearch query plateform\n",
    "* The general file structure of OSI SAF SST products, and how to read them using Python\n",
    "* How to visualise OSI SAF data products, applying appropriate flags.\n",
    "\n",
    "<hr>"
   ]
  },
  {
   "cell_type": "markdown",
   "metadata": {},
   "source": [
    "<div class=\"alert alert-info\" role=\"alert\">\n",
    "\n",
    "## <a id='TOC_TOP'></a>Contents\n",
    "\n",
    "</div>\n",
    "    \n",
    "This modules offers notebooks for introductory uses of OSI SAF SST data.\n",
    "\n",
    "<h3>OSI SAF <font color=\"#229954\"> introductory</font> notebooks.</h3>\n",
    "\n",
    "These resources will introduce you to the fundamentals of OSI SAF SST data<br>\n",
    " *  <a href=\"./1_OSI_SAF_sst_introductory/1_1a_OSI_SAF_SST_data_access_IFREMER_Opensearch.ipynb\" target=\"_blank\">1.1a Accessing Metop SST metagranule data through IFREMER opensearch queries</a>\n",
    " *  <a href=\"./1_OSI_SAF_sst_introductory/1_1b_OSI_SAF_SST_data_access_IFREMER_FTP.ipynb\" target=\"_blank\">1.1b Accessing OSI SAF SST products through the IFREMER FTP server</a>\n",
    " *  <a href=\"./1_OSI_SAF_sst_introductory/1_2_OSI_SAF_SST_file_structure.ipynb\" target=\"_blank\">1.2 Exploring OSI SAF SST product structure</a>\n",
    " *  <a href=\"./1_OSI_SAF_sst_introductory/1_3a_OSI_SAF_SST_mapping_Metop_Metagranules.ipynb\" target=\"_blank\">1.3a Mapping Metop SST Metagranules</a>\n",
    " *  <a href=\"./1_OSI_SAF_sst_introductory/1_3b_OSI_SAF_SST_mapping_Global_Metop_SST.ipynb\" target=\"_blank\">1.3b Mapping Global Metop AVHRR SST products</a>\n",
    " *  <a href=\"./1_OSI_SAF_sst_introductory/1_3c_OSI_SAF_SST_mapping_MSG_SST.ipynb\" target=\"_blank\">1.3c Mapping Meteosat SEVIRI SST</a>"
   ]
  },
  {
   "cell_type": "markdown",
   "metadata": {},
   "source": [
    "<hr>\n",
    "<a href=\"https://gitlab.eumetsat.int/eumetlab/ocean\">View on GitLab</a> | <a href=\"https://training.eumetsat.int/\">EUMETSAT Training</a> | <a href=mailto:ops@eumetsat.int>Contact helpdesk for support </a> | <a href=mailto:Copernicus.training@eumetsat.int>Contact our training team to collaborate on and reuse this material</a></span></p>"
   ]
  }
 ],
 "metadata": {
  "kernelspec": {
   "display_name": "Python 3 (ipykernel)",
   "language": "python",
   "name": "python3"
  },
  "language_info": {
   "codemirror_mode": {
    "name": "ipython",
    "version": 3
   },
   "file_extension": ".py",
   "mimetype": "text/x-python",
   "name": "python",
   "nbconvert_exporter": "python",
   "pygments_lexer": "ipython3",
   "version": "3.9.13"
  }
 },
 "nbformat": 4,
 "nbformat_minor": 4
}
