{
 "cells": [
  {
   "cell_type": "markdown",
   "id": "6bed7156-44c8-4d08-b104-2ff30c4ec9cc",
   "metadata": {},
   "source": [
    "<img src='https://gitlab.eumetsat.int/eumetlab/oceans/ocean-training/tools/frameworks/-/raw/main/img/OSI-SAF_banner.png' align='right' width='100%'/>"
   ]
  },
  {
   "cell_type": "markdown",
   "id": "f51cb810-1d9d-481a-a367-5a276b452fa5",
   "metadata": {},
   "source": [
    "<a href=\"../Index.ipynb\" target=\"_blank\"><< Index</a>\n",
    "<br>\n",
    "<a href=\"./1_1b_OSI_SAF_SST_data_access_IFREMER_FTP.ipynb\" target=\"_blank\"><< Accessing Metop SST metagranule data through IFREMER opensearch queries</a>&nbsp;&nbsp;&nbsp;&nbsp;&nbsp;<a href=\"./1_2_OSI_SAF_SST_file_structure.ipynb\" target=\"_blank\">Exploring OSI SAF SST product structure >></a>"
   ]
  },
  {
   "cell_type": "markdown",
   "id": "41271f14-6501-4fd9-a1e3-bd90ea6acf51",
   "metadata": {},
   "source": [
    "<font color=\"#138D75\">**EUMETSAT OSI SAF Training Service**</font> <br>\n",
    "**Copyright:** 2024 EUMETSAT <br>\n",
    "**License:** MIT"
   ]
  },
  {
   "cell_type": "markdown",
   "id": "d2b81035-bc99-4fe6-bda6-7a11ea549f64",
   "metadata": {},
   "source": [
    "<html>\n",
    "  <div style=\"width:100%\">\n",
    "    <div style=\"float:left\"><a href=\"https://mybinder.org/v2/git/https%3A%2F%2Fgitlab.eumetsat.int%2Feumetlab%2Foceans%2Focean-training%2Fsensors%2Flearn-osi-saf-sst/HEAD?urlpath=%2Ftree%2F1_OSI_SAF_sst_introductory%2F1_1a_OSI_SAF_SST_data_access_IFREMER_Opensearch.ipynb\"><img src=\"https://mybinder.org/badge_logo.svg\" alt=\"Open in Binder\"></a></div>\n",
    "    <div style=\"float:left\"><p>&emsp;</p></div>\n",
    "  </div>\n",
    "</html>"
   ]
  },
  {
   "cell_type": "markdown",
   "id": "6b2aafdd-22c6-49c5-82a3-b46a286ef778",
   "metadata": {},
   "source": [
    "<div class=\"alert alert-block alert-success\">\n",
    "<h3>Learn OSI SAF sea surface temperature: Introductory</h3></div>"
   ]
  },
  {
   "cell_type": "markdown",
   "id": "a8338660-9cb3-4a90-97e6-535aeedc7ec6",
   "metadata": {},
   "source": [
    "<div class=\"alert alert-block alert-warning\">\n",
    "    \n",
    "<b>PREREQUISITES </b>\n",
    "    \n",
    "This notebook has the following prerequisites:\n",
    "- **<a href=\"https://osi-saf.eumetsat.int/register\" target=\"_blank\">A EUMETSAT OSI SAF account</a>** if you are using or plan to use the EUMETSAT OSI SAF data.\n",
    "\n",
    "There are no prerequisite notebooks for this module.\n",
    "</div>\n",
    "<hr>"
   ]
  },
  {
   "cell_type": "markdown",
   "id": "9b37bfc2-74bc-4b56-b38c-aa3402230945",
   "metadata": {},
   "source": [
    "# 1.1c Accessing Gobal Metop SST products throught the Eumetsat Data Store\n",
    "### Data used \n",
    "\n",
    "| Product Description | Product Navigator | OSI SAF website link | OSI SAF Identifier |\n",
    "|:--------------------:|:-------------:|:-----------------:|:-----------------:|\n",
    "| Global Metop Sea Surface Temperature | EO:EUM:DAT:METOP:GLB-SST-NC | <a href=\"https://osi-saf.eumetsat.int/products/osi-201-b\" target=\"_blank\">link</a>| OSI-201-b |\n",
    "\n",
    "\n",
    "### Learning outcomes\n",
    "\n",
    "At the end of this notebook you will know;\n",
    "* How to download different OSI SAF sea surface temperature (SST) products using the Eumetsat Data Store\n",
    "\n",
    "<div class=\"alert alert-info\" role=\"alert\">\n",
    "\n",
    "## <a id='TOC-TOP'></a>Contents\n",
    "\n",
    "</div>\n",
    "    \n",
    " 1. [Creating the workspace](#section1)\n",
    " 1. [Setting login information](#section2)\n",
    " 1. [Defining satellite names and querry parameters](#section3)\n",
    " 1. [Launch an OpenSearch request](#section4)\n",
    "\n",
    "<hr>\n",
    "\n",
    "<hr>"
   ]
  },
  {
   "cell_type": "markdown",
   "id": "df1af0b5-e63a-4674-b7d6-0835612f170b",
   "metadata": {},
   "source": [
    "<div class=\"alert alert-info\" role=\"alert\">\n",
    "\n",
    "## <a id='section1'></a>1. Creating the workspace\n",
    "[Back to top](#TOC-TOP)\n",
    "\n",
    "</div>\n",
    "\n",
    "We begin by importing all of the libraries that we need to run this notebook. If you have built your python using the environment file provided in this repository, then you should have everything you need. For more information on building environment, please see the repository **<a href=\"../README.md\" target=\"_blank\">README</a>**."
   ]
  },
  {
   "cell_type": "code",
   "execution_count": 1,
   "id": "bf21f769-ffe4-4674-90e0-b4da28c4402e",
   "metadata": {},
   "outputs": [],
   "source": [
    "import os                       # a library that allows us access to basic operating system commands\n",
    "import json                     # a library that helps us make JSON format files\n",
    "import datetime                 # a libary that allows us to work with dates and times\n",
    "import shutil                   # a library that allows us access to basic operating system commands like copy\n",
    "import eumdac                   # a tool that helps us download via the eumetsat/data-store\n",
    "import zipfile                  # a library that allow us to work with zip file\n",
    "import requests                 # a library that allow us to work with HTTP"
   ]
  },
  {
   "cell_type": "markdown",
   "id": "13cc3b44-6ad2-491f-a003-872348d5f803",
   "metadata": {},
   "source": [
    "Next we will create a download directory to store the products we will download in this notebook."
   ]
  },
  {
   "cell_type": "code",
   "execution_count": 2,
   "id": "483bcfe6-387a-41ee-a74c-b73d4d5adf28",
   "metadata": {},
   "outputs": [],
   "source": [
    "download_dir = os.path.join(os.getcwd(), \"products\")\n",
    "os.makedirs(download_dir, exist_ok=True)"
   ]
  },
  {
   "cell_type": "markdown",
   "id": "b9d31ccd-195b-4af4-8808-386930e247c3",
   "metadata": {},
   "source": [
    "<div class=\"alert alert-info\" role=\"alert\">\n",
    "\n",
    "## <a id='section2'></a>2. Setting login information\n",
    "[Back to top](#TOC-TOP)\n",
    "\n",
    "</div>\n",
    "\n",
    "We will access OSI SAF from the <a href=\"https://data.eumetsat.int\">EUMETSAT Data Store</a>.\n",
    "\n",
    "we will use the EUMETSAT Data Access Client (`eumdac`). If you are working with the recommended Anaconda Python distribution and used the supplied environment file (environment.yml) to build this python environment (as detailed in the README), you will already have installed this. If not, you can install eumdac using;\n",
    "\n",
    "`conda install -c eumetsat eumdac`\n",
    "\n",
    "However, you can also find the source code on the <a href=\"https://gitlab.eumetsat.int/eumetlab/data-services/eumdac\">EUMETSAT gitlab</a>. Please visit the EUMETSAT user support confluence spaces for the the <a href=\"https://eumetsatspace.atlassian.net/wiki/spaces/DSDS/overview\">Data Store</a> and <a href=\"https://eumetsatspace.atlassian.net/wiki/spaces/EUMDAC/overview\">eumdac</a> for more information.\n",
    "\n",
    "\n",
    "In order to allow us to download data using the Data Store via API, we need to provide our credentials. Once again, we can do this in two ways;\n",
    "* **Option 1** - by creating a configuration file (*recommended, and user here with the default configuration file*)\n",
    "* **Option 2** - by supplying our credentials directly in this script (*not recommended, but sometimes useful*)\n",
    "\n",
    "\n",
    "#### Option 1: creating a credentials file.\n",
    "\n",
    "By default, the `eumdac` expects the configuration to be called `.eumdac_credentials`, and to reside in our home directory. For most computer systems the home directory can be found at the path \\user\\username, /users/username, or /home/username depending on your operating system. In this file we need to add the following information exactly as follows;\n",
    "\n",
    "```\n",
    "{\n",
    "\"consumer_key\": \"<your_consumer_key>\",\n",
    "\"consumer_secret\": \"<your_consumer_secret>\"\n",
    "}\n",
    "```\n",
    "\n",
    "You must replace `<your_consumer_key>` and `<your_consumer_secret>` with the information you extract from https://api.eumetsat.int/api-key/. You will need a <a href=\"https://eoportal.eumetsat.int/\">EUMETSAT Earth Observation Portal account</a> to access this link, and in order to see the information you must click the \"Show hidden fields\" button at the bottom of the page. Make sure to save the file without any kind of extension. \n",
    "\n",
    "Once you have done this, you can read in your credentials using the commands in the following cell. These will be used to generate a time-limited token, which will refresh itself when it expires. Alternatively, if you wish to specify your own configuration file, you can do so by adapting the code line below. The format should be the same as specified above.\n",
    "\n",
    "*Note: your key and secret are permanent, so you only need to do this once, but you should take care to never share them*\n",
    "\n"
   ]
  },
  {
   "cell_type": "markdown",
   "id": "dc361cff-3c42-47b7-a169-060a6b0967fb",
   "metadata": {},
   "source": [
    "Before we use the Data Store to download data, we must first authenticate our access and retrieve an access token."
   ]
  },
  {
   "cell_type": "code",
   "execution_count": 3,
   "id": "3ceb9f6e-1d60-40e4-b4c3-2d58fda3087b",
   "metadata": {},
   "outputs": [
    {
     "name": "stdout",
     "output_type": "stream",
     "text": [
      "This token '6aca1477-73c2-3159-b6f0-5ded25eb7d24' expires 2024-02-09 12:16:45.255615\n"
     ]
    }
   ],
   "source": [
    "# load credentials\n",
    "with open(os.path.join(os.path.expanduser(\"~\"),'.eumdac_credentials')) as json_file:\n",
    "    credentials = json.load(json_file)\n",
    "    token = eumdac.AccessToken((credentials['consumer_key'], credentials['consumer_secret']))\n",
    "    print(f\"This token '{token}' expires {token.expiration}\")\n",
    "\n",
    "# create data store object\n",
    "datastore = eumdac.DataStore(token)"
   ]
  },
  {
   "cell_type": "markdown",
   "id": "399c1296-66bb-43ba-8373-e34d29524af5",
   "metadata": {},
   "source": [
    "#### Option 2: provide credentials directly\n",
    "\n",
    "You can provide your credentials directly as follows;\n",
    "\n",
    "`token = eumdac.AccessToken((consumer_key, consumer_secret))`\n",
    "\n",
    "*Note: this method is convenient in the short term, but is not really recommended as you have to put your key and secret in this notebook, and run the risk of accidentally sharing them. This method also requires you to authenticate on a notebook-by-notebook basis.*\n",
    "\n",
    "Once we have a token (by either method described above) we can create a **datastore** 'object' that contains all the collections, and filter this list for those that are relevant to Sentinel-3. The code to the right of the colon is what will tell use the ID for the Sentinel-3 collection we are interested in."
   ]
  },
  {
   "cell_type": "code",
   "execution_count": 4,
   "id": "6b7b2a43-ad27-402f-adbc-3ba59ecc5fee",
   "metadata": {},
   "outputs": [],
   "source": [
    "# token = eumdac.AccessToken((\"<your_consumer_key>\", \"<your_consumer_secret>\"))\n",
    "# print(f\"This token '{token}' expires {token.expiration}\")\n",
    "\n",
    "# # create data store object\n",
    "# datastore = eumdac.DataStore(token)"
   ]
  },
  {
   "cell_type": "markdown",
   "id": "0062de3e-5dce-4ee6-aacd-7faa02094fc9",
   "metadata": {},
   "source": [
    "Note: this method is convenient in the short term, but is not really recommended as you have to put your provided username and password in this notebook, and run the risk of accidentally sharing them. This method also requires you to authenticate on a notebook-by-notebook basis."
   ]
  },
  {
   "cell_type": "markdown",
   "id": "cbd636f7-8e46-4d5b-8f5b-a5718a25b80b",
   "metadata": {},
   "source": [
    "We will work with the Global Metop SST collection throughout this notebook. The code for this  is `EO:EUM:DAT:METOP:GLB-SST-NC`."
   ]
  },
  {
   "cell_type": "code",
   "execution_count": 4,
   "id": "2f630eff-9eff-435e-b53a-6b42ef5071cc",
   "metadata": {},
   "outputs": [],
   "source": [
    "# set collection ID\n",
    "collectionID = 'EO:EUM:DAT:METOP:GLB-SST-NC'"
   ]
  },
  {
   "cell_type": "markdown",
   "id": "961f5bc6-cdbb-447d-a091-0ba80641e420",
   "metadata": {},
   "source": [
    "<div class=\"alert alert-info\" role=\"alert\">\n",
    "\n",
    "## <a id='section3'></a>3. Filtering by time\n",
    "[Back to top](#TOC-TOP)\n"
   ]
  },
  {
   "cell_type": "markdown",
   "id": "3c29eef8-0c60-4af1-b9dc-2393c4b7bf98",
   "metadata": {
    "tags": []
   },
   "source": [
    "## Filter by the lastest product\n",
    "\n",
    "It is possible to search the most recent product of the collection by using the function `.first()`"
   ]
  },
  {
   "cell_type": "code",
   "execution_count": 5,
   "id": "6551d3f0-0d4b-443a-91e2-3291c96bd157",
   "metadata": {},
   "outputs": [
    {
     "name": "stdout",
     "output_type": "stream",
     "text": [
      "S-OSI_-FRA_-MTOP-GLBSST_FIELD-202402090000Z\n"
     ]
    }
   ],
   "source": [
    "# Time filter\n",
    "selected_collection = datastore.get_collection(collectionID)\n",
    "latest = selected_collection.search().first()\n",
    "try:\n",
    "    print(latest)\n",
    "except eumdac.collection.CollectionError as error:\n",
    "    print(f\"Error related to the collection: '{error.msg}'\")\n",
    "except requests.exceptions.RequestException as error:\n",
    "    print(f\"Unexpected error: {error}\")"
   ]
  },
  {
   "cell_type": "markdown",
   "id": "5acabf0a-c2bf-44d3-9532-267d8eb45967",
   "metadata": {
    "tags": []
   },
   "source": [
    "## Filter with start and end date\n",
    "It is possible to select product from the collection filtering by time by adding a start and an end date to the function `.search(dtstart=date_start, dtend=end_date)`"
   ]
  },
  {
   "cell_type": "code",
   "execution_count": 6,
   "id": "b87f095f",
   "metadata": {},
   "outputs": [
    {
     "name": "stdout",
     "output_type": "stream",
     "text": [
      "S-OSI_-FRA_-MTOP-GLBSST_FIELD-202307150000Z\n"
     ]
    }
   ],
   "source": [
    "# space/time filter the collection for products\n",
    "selected_collection = datastore.get_collection(collectionID)\n",
    "# Select start and end date for search\n",
    "start = datetime.datetime(2023, 7, 15,0,0) # date format YYYY, MM, DD, HH, mm\n",
    "end = datetime.datetime(2023, 7, 15, 4, 0)  # date format YYYY, MM, DD, HH, mm\n",
    "products = selected_collection.search(geo=None, dtstart=start, dtend=end)\n",
    "for product in products:\n",
    "    try:\n",
    "        print(product)\n",
    "    except eumdac.collection.CollectionError as error:\n",
    "        print(f\"Error related to the collection: '{error.msg}'\")\n",
    "    except requests.exceptions.RequestException as error:\n",
    "        print(f\"Unexpected error: {error}\")"
   ]
  },
  {
   "cell_type": "markdown",
   "id": "24db8cc0-3733-4bec-9bfc-b6fd7eba6e8c",
   "metadata": {},
   "source": [
    "<div class=\"alert alert-info\" role=\"alert\">\n",
    "\n",
    "## <a id='section4'></a>4. Download products\n",
    "[Back to top](#TOC-TOP)"
   ]
  },
  {
   "cell_type": "markdown",
   "id": "545b7143-5c79-4487-bc50-4c0537f382cd",
   "metadata": {},
   "source": [
    "It is possible to download any component of a SAFE format file. This can be achieved by using iterating through the `entries` attribute of a product and string matching to your component of interest - in this case the manifest file. This method can be used to prune downloads for the enhanced, reduced or standard measurements only.\n",
    "\n",
    "*Note: It is not currently possible to download a single variable from **inside** a netCDF file*."
   ]
  },
  {
   "cell_type": "code",
   "execution_count": 7,
   "id": "a5f5846b-4863-4174-ad90-eb53018f2385",
   "metadata": {},
   "outputs": [],
   "source": [
    "download_dir = os.path.join(os.getcwd(), \"products/global\")\n",
    "os.makedirs(download_dir, exist_ok=True)"
   ]
  },
  {
   "cell_type": "code",
   "execution_count": 8,
   "id": "887aaf50-7c1c-40c1-be24-d20b52ef3edb",
   "metadata": {},
   "outputs": [
    {
     "name": "stdout",
     "output_type": "stream",
     "text": [
      "Retrieving: S-OSI_-FRA_-MTOP-GLBSST_FIELD-202307150000Z\n",
      "Downloading S-OSI_-FRA_-MTOP-GLBSST_FIELD-202307150000Z.zip.\n",
      "Download of product S-OSI_-FRA_-MTOP-GLBSST_FIELD-202307150000Z.zip finished.\n",
      "Unzipping of product /home/lebrasg/learn-osi-saf-sst/1_OSI_SAF_sst_introductory/products/global/S-OSI_-FRA_-MTOP-GLBSST_FIELD-202307150000Z.zip finished.\n"
     ]
    }
   ],
   "source": [
    "for product_id in products:\n",
    "    print(f\"Retrieving: {product_id}\")    \n",
    "\n",
    "    # selected_collection = datastore.get_collection(collection_id)\n",
    "    selected_product = datastore.get_product(product_id=product_id, collection_id=collectionID)\n",
    "\n",
    "    with selected_product.open() as fsrc, open(os.path.join(download_dir, fsrc.name), mode='wb') as fdst:\n",
    "        print(f'Downloading {fsrc.name}.')\n",
    "        shutil.copyfileobj(fsrc, fdst)\n",
    "        print(f'Download of product {fsrc.name} finished.')\n",
    "\n",
    "    with zipfile.ZipFile(fdst.name, 'r') as zip_ref:\n",
    "        for file in zip_ref.namelist():\n",
    "            if file.startswith(str(selected_product)):\n",
    "                zip_ref.extract(file, download_dir)\n",
    "        print(f'Unzipping of product {fdst.name} finished.')\n",
    "\n",
    "    os.remove(fdst.name)"
   ]
  },
  {
   "cell_type": "markdown",
   "id": "307a1c9e-77d9-427b-8dd9-e14faf1da42f",
   "metadata": {},
   "source": [
    "<a href=\"../Index.ipynb\" target=\"_blank\"><< Index</a>\n",
    "<br>\n",
    "<a href=\"./1_1b_OSI_SAF_SST_data_access_IFREMER_FTP.ipynb\" target=\"_blank\"><< Accessing Metop SST metagranule data through IFREMER opensearch queries</a>&nbsp;&nbsp;&nbsp;&nbsp;&nbsp;<a href=\"./1_2_OSI_SAF_SST_file_structure.ipynb\" target=\"_blank\">Exploring OSI SAF SST product structure >></a>\n",
    "<hr>\n",
    "<a href=\"https://gitlab.eumetsat.int/eumetlab/ocean\">View on GitLab</a> | <a href=\"https://training.eumetsat.int/\">EUMETSAT Training</a> | <a href=mailto:ops@eumetsat.int>Contact helpdesk for support </a> | <a href=mailto:Copernicus.training@eumetsat.int>Contact our training team to collaborate on and reuse this material</a></span></p>"
   ]
  },
  {
   "cell_type": "code",
   "execution_count": null,
   "id": "f6ff6cf6-13b8-4bcd-beb1-f8a7c4bd7448",
   "metadata": {},
   "outputs": [],
   "source": []
  }
 ],
 "metadata": {
  "kernelspec": {
   "display_name": "learn-sst",
   "language": "python",
   "name": "learn-sst"
  },
  "language_info": {
   "codemirror_mode": {
    "name": "ipython",
    "version": 3
   },
   "file_extension": ".py",
   "mimetype": "text/x-python",
   "name": "python",
   "nbconvert_exporter": "python",
   "pygments_lexer": "ipython3",
   "version": "3.10.6"
  }
 },
 "nbformat": 4,
 "nbformat_minor": 5
}
