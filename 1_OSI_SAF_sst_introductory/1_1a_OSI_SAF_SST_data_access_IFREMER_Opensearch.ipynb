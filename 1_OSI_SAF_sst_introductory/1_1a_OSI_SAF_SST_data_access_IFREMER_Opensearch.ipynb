{
 "cells": [
  {
   "cell_type": "markdown",
   "metadata": {},
   "source": [
    "<img src='https://gitlab.eumetsat.int/eumetlab/oceans/ocean-training/tools/frameworks/-/raw/main/img/OSI-SAF_banner.png' align='right' width='100%'/>"
   ]
  },
  {
   "cell_type": "markdown",
   "metadata": {},
   "source": [
    "<a href=\"../Index.ipynb\" target=\"_blank\"><< Index</a>\n",
    "<br>\n",
    "<a href=\"./1_1b_OSI_SAF_SST_data_access_IFREMER_FTP.ipynb\" target=\"_blank\">NEXT NOTEBOOK >></a>"
   ]
  },
  {
   "cell_type": "markdown",
   "metadata": {},
   "source": [
    "<font color=\"#138D75\">**EUMETSAT OSI SAF Training Service**</font> <br>\n",
    "**Copyright:** 2022 EUMETSAT <br>\n",
    "**License:** MIT"
   ]
  },
  {
   "cell_type": "markdown",
   "metadata": {},
   "source": [
    "<div class=\"alert alert-block alert-success\">\n",
    "<h3>Learn OSI SAF sea surface temperature: Introductory</h3></div>"
   ]
  },
  {
   "cell_type": "markdown",
   "metadata": {},
   "source": [
    "<div class=\"alert alert-block alert-warning\">\n",
    "    \n",
    "<b>PREREQUISITES </b>\n",
    "    \n",
    "This notebook has the following prerequisites:\n",
    "- **<a href=\"https://osi-saf.eumetsat.int/register\" target=\"_blank\">A EUMETSAT OSI SAF account</a>** if you are using or plan to use the EUMETSAT OSI SAF data.\n",
    "\n",
    "There are no prerequisite notebooks for this module.\n",
    "</div>\n",
    "<hr>"
   ]
  },
  {
   "cell_type": "markdown",
   "metadata": {},
   "source": [
    "# 1.1a Access Metop SST Metagranules - IFREMER Opensearch\n",
    "### Data used \n",
    "\n",
    "| Product Description | Product Navigator | OSI SAF website link | OSI SAF Identifier |\n",
    "|:--------------------:|:-------------:|:-----------------:|:-----------------:|\n",
    "| Full resolution Metop-B Sea Surface Temperature metagranules | EO:EUM:DAT:METOP:MGR-SST | <a href=\"https://osi-saf.eumetsat.int/products/osi-204-b\" target=\"_blank\">link</a>| OSI-204-b | \n",
    "| Full resolution Metop-C Sea Surface Temperature metagranules | EO:EUM:DAT:METOP:MGR-SST | <a href=\"https://osi-saf.eumetsat.int/products/osi-204-c\" target=\"_blank\">link</a>| OSI-204-c | \n",
    "\n",
    "\n",
    "### Learning outcomes\n",
    "\n",
    "At the end of this notebook you will know;\n",
    "* How to donwload OSI SAF data using IFREMER OpenSearch\n",
    "\n",
    "<div class=\"alert alert-info\" role=\"alert\">\n",
    "\n",
    "## <a id='TOC_TOP'></a>Contents\n",
    "\n",
    "</div>\n",
    "    \n",
    " 1. [Creating the workspace](#section1)\n",
    " 1. [Setting login information](#section2)\n",
    " 1. [Defining satellite names and querry parameters](#section3)\n",
    " 1. [Launch an OpenSearch request](#section4)\n",
    "\n",
    "<hr>\n",
    "\n",
    "<hr>"
   ]
  },
  {
   "cell_type": "markdown",
   "metadata": {},
   "source": [
    "<div class=\"alert alert-info\" role=\"alert\">\n",
    "\n",
    "## <a id='section1'></a>1. Creating the workspace\n",
    "[Back to top](#TOC_TOP)\n",
    "\n",
    "</div>\n",
    "\n",
    "We begin by importing all of the libraries that we need to run this notebook. If you have built your python using the environment file provided in this repository, then you should have everything you need. For more information on building environment, please see the repository **<a href=\"../README.md\" target=\"_blank\">README</a>**."
   ]
  },
  {
   "cell_type": "code",
   "execution_count": 1,
   "metadata": {},
   "outputs": [],
   "source": [
    "# library imports \n",
    "import os           # a library that allows to access to basic operating system commands like making directories\n",
    "import json         # a library that helps with JSON format files\n",
    "import requests\n",
    "import xml.dom.minidom\n",
    "import warnings\n",
    "warnings.filterwarnings('ignore')"
   ]
  },
  {
   "cell_type": "markdown",
   "metadata": {},
   "source": [
    "Next we will create a download directory to store the products we will download in this notebook."
   ]
  },
  {
   "cell_type": "code",
   "execution_count": 2,
   "metadata": {},
   "outputs": [],
   "source": [
    "download_dir = os.path.join(os.getcwd(), \"products\")\n",
    "os.makedirs(download_dir, exist_ok=True)"
   ]
  },
  {
   "cell_type": "markdown",
   "metadata": {},
   "source": [
    "<div class=\"alert alert-info\" role=\"alert\">\n",
    "\n",
    "## <a id='section2'></a>2. Setting login information\n",
    "[Back to top](#TOC_TOP)\n",
    "\n",
    "</div>\n",
    "\n",
    "We will access OSI SAF data from the OSI SAF Lower-Mid-Latitude Centre FTP server.\n",
    "\n",
    "In order to allow us to download data, we need to provide our credentials. We can do this in two ways; either by creating a file called `.eumetsat_osi_saf_sst_credentials` in our home directory (*option 1 - recommended*) or by supplying our credentials directly in this script (*option 2*). \n",
    "\n",
    "#### Option 1: creating  `.eumetsat_osi_saf_sst_credentials` in our home directory\n",
    "\n",
    "For most computer systems the home directory can be found at the path \\user\\username, /users/username, or /home/username depending on your operating system.\n",
    "\n",
    "In this file we need to add the following information exactly as follows;\n",
    "\n",
    "```\n",
    "{\n",
    "\"username\": \"<provided_username>\",\n",
    "\"password\": \"<provided_password>\"\n",
    "}\n",
    "```\n",
    "\n",
    "You must replace `<provided_username>` and `<provided_password>` with the information provided to you after you have registered to the OSI SAF website and mentionned your interest in Sea Ice data. \n",
    "\n",
    "Once you have created an <a href=\"https://osi-saf.eumetsat.int/register\" target=\"_blank\">EUMETSAT OSI SAF account</a>, the generic password and credentials to access OSI SAF Lower-Mid-Latitude Centre server should have been sent to you via email.\n",
    "\n",
    "Make sure to save the file without any kind of extension.\n",
    "\n",
    "Once you have done this, you can read in your credentials using the commands in the following cell. These will be used to generate a time-limited token, which will refresh itself when it expires."
   ]
  },
  {
   "cell_type": "markdown",
   "metadata": {},
   "source": [
    "Reading credential information"
   ]
  },
  {
   "cell_type": "code",
   "execution_count": 3,
   "metadata": {},
   "outputs": [],
   "source": [
    "# read credentials\n",
    "with open(os.path.join(os.path.expanduser(\"~\"),'.eumetsat_osi_saf_sst_credentials')) as json_file:\n",
    "    credentials = json.load(json_file)"
   ]
  },
  {
   "cell_type": "markdown",
   "metadata": {},
   "source": [
    "Loading credentials"
   ]
  },
  {
   "cell_type": "code",
   "execution_count": 4,
   "metadata": {},
   "outputs": [],
   "source": [
    "username = credentials['username'] \n",
    "password = credentials['password']"
   ]
  },
  {
   "cell_type": "markdown",
   "metadata": {},
   "source": [
    "Option 2: provide credentials directly\n",
    "You can provide your credentials directly as follows; by uncommenting the following lines."
   ]
  },
  {
   "cell_type": "code",
   "execution_count": 5,
   "metadata": {},
   "outputs": [],
   "source": [
    "#username = \"<provided_username>\"\n",
    "#password = \"<provided_password>\""
   ]
  },
  {
   "cell_type": "markdown",
   "metadata": {},
   "source": [
    "You must replace <provided_username> and <provided_password> with the information provided to you after you have registered to the OSI SAF website and mentionned your interest in SST data.\n",
    "\n",
    "Once you have created an EUMETSAT OSI SAF account, the generic password and credentials to access OSI SAF Lower-Mid-Latitude  server should have been sent to you via email.\n",
    "\n",
    "Note: this method is convenient in the short term, but is not really recommended as you have to put your provided username and password in this notebook, and run the risk of accidentally sharing them. This method also requires you to authenticate on a notebook-by-notebook basis."
   ]
  },
  {
   "cell_type": "markdown",
   "metadata": {},
   "source": [
    "<div class=\"alert alert-info\" role=\"alert\">\n",
    "\n",
    "## <a id='section3'></a>3. Defining satellite names and querry parameters\n",
    "[Back to top](#TOC_TOP)\n",
    "\n",
    "</div>"
   ]
  },
  {
   "cell_type": "markdown",
   "metadata": {},
   "source": [
    "This first section allows to set the satellite names in order to define a related OpenSearch query"
   ]
  },
  {
   "cell_type": "code",
   "execution_count": 6,
   "metadata": {
    "scrolled": true
   },
   "outputs": [],
   "source": [
    "# setting satellite names\n",
    "SST_MetOpA = \"avhrr_sst_metop_a-osisaf-l2p-v1.0\"\n",
    "SST_MetOpB = \"avhrr_sst_metop_b-osisaf-l2p-v1.0\"\n",
    "SST_MetOpC = \"avhrr_sst_metop_c-osisaf-l2p-v1.0\""
   ]
  },
  {
   "cell_type": "markdown",
   "metadata": {},
   "source": [
    "Setting Date, Time, Satellite and Lat°xLon° box.\n",
    "Configure your selection"
   ]
  },
  {
   "cell_type": "code",
   "execution_count": 7,
   "metadata": {},
   "outputs": [],
   "source": [
    "YYYY = \"2022\"\n",
    "MM = \"07\"\n",
    "DD = \"09\"\n",
    "satellite = SST_MetOpB\n",
    "lon_min = \"-8\"\n",
    "lon_max = \"3\"\n",
    "lat_min = \"45\"\n",
    "lat_max = \"51\""
   ]
  },
  {
   "cell_type": "markdown",
   "metadata": {},
   "source": [
    "Setting connection information"
   ]
  },
  {
   "cell_type": "code",
   "execution_count": 8,
   "metadata": {},
   "outputs": [],
   "source": [
    "session = requests.Session()\n",
    "username = credentials['username'] \n",
    "password = credentials['password']"
   ]
  },
  {
   "cell_type": "markdown",
   "metadata": {},
   "source": [
    "<div class=\"alert alert-danger\" role=\"alert\">\n",
    "\n",
    "## <a id='section4'></a>4. Launch an OpenSearch request\n",
    "[Back to top](#TOC_TOP)\n",
    "\n",
    "</div>"
   ]
  },
  {
   "cell_type": "markdown",
   "metadata": {},
   "source": [
    "Let's start by creating a specific folder to hold the SST metagranules products"
   ]
  },
  {
   "cell_type": "code",
   "execution_count": 9,
   "metadata": {},
   "outputs": [],
   "source": [
    "download_dir = os.path.join(os.getcwd(), \"products/metagranules\")\n",
    "os.makedirs(download_dir, exist_ok=True)"
   ]
  },
  {
   "cell_type": "markdown",
   "metadata": {},
   "source": [
    "Set the download request"
   ]
  },
  {
   "cell_type": "code",
   "execution_count": 12,
   "metadata": {},
   "outputs": [],
   "source": [
    "if os.path.exists('searchresult.xml'):\n",
    "    os.remove('searchresult.xml')\n",
    "    \n",
    "opensearch = requests.get('https://opensearch.ifremer.fr/granules.atom?'\\\n",
    "                          'datasetId=' + satellite + \\\n",
    "                          '&startPage=0&count=1000&'\\\n",
    "                          'timeStart='+YYYY+'-'+MM+'-'+DD+'T00:00:00Z&'\\\n",
    "                          'timeEnd='+YYYY+'-'+MM+'-'+DD+'T23:59:59Z&'\\\n",
    "                          'geoBox='+lon_min+','+lat_min+','+lon_max+','+lat_max, verify=False)\n",
    "searchresult = open('searchresult.xml','w')\n",
    "searchresult.write(opensearch.text)\n",
    "searchresult.close()"
   ]
  },
  {
   "cell_type": "markdown",
   "metadata": {},
   "source": [
    "Parse granules and download files"
   ]
  },
  {
   "cell_type": "code",
   "execution_count": 15,
   "metadata": {
    "scrolled": true
   },
   "outputs": [
    {
     "name": "stdout",
     "output_type": "stream",
     "text": [
      "7 granules\n",
      "https://osi-saf.ifremer.fr/sst/l2p/global/avhrr_metop_b/2022/190/20220709190703-OSISAF-L2P_GHRSST-SSTsubskin-AVHRR_SST_METOP_B-sstmgr_metop01_20220709_190703-v02.0-fv01.0.nc\n",
      "20220709190703-OSISAF-L2P_GHRSST-SSTsubskin-AVHRR_SST_METOP_B-sstmgr_metop01_20220709_190703-v02.0-fv01.0.nc\n",
      "https://osi-saf.ifremer.fr/sst/l2p/global/avhrr_metop_b/2022/190/20220709110103-OSISAF-L2P_GHRSST-SSTsubskin-AVHRR_SST_METOP_B-sstmgr_metop01_20220709_110103-v02.0-fv01.0.nc\n",
      "20220709110103-OSISAF-L2P_GHRSST-SSTsubskin-AVHRR_SST_METOP_B-sstmgr_metop01_20220709_110103-v02.0-fv01.0.nc\n",
      "https://osi-saf.ifremer.fr/sst/l2p/global/avhrr_metop_b/2022/190/20220709091903-OSISAF-L2P_GHRSST-SSTsubskin-AVHRR_SST_METOP_B-sstmgr_metop01_20220709_091903-v02.0-fv01.0.nc\n",
      "20220709091903-OSISAF-L2P_GHRSST-SSTsubskin-AVHRR_SST_METOP_B-sstmgr_metop01_20220709_091903-v02.0-fv01.0.nc\n",
      "https://osi-saf.ifremer.fr/sst/l2p/global/avhrr_metop_b/2022/190/20220709092203-OSISAF-L2P_GHRSST-SSTsubskin-AVHRR_SST_METOP_B-sstmgr_metop01_20220709_092203-v02.0-fv01.0.nc\n",
      "20220709092203-OSISAF-L2P_GHRSST-SSTsubskin-AVHRR_SST_METOP_B-sstmgr_metop01_20220709_092203-v02.0-fv01.0.nc\n",
      "https://osi-saf.ifremer.fr/sst/l2p/global/avhrr_metop_b/2022/190/20220709204903-OSISAF-L2P_GHRSST-SSTsubskin-AVHRR_SST_METOP_B-sstmgr_metop01_20220709_204903-v02.0-fv01.0.nc\n",
      "20220709204903-OSISAF-L2P_GHRSST-SSTsubskin-AVHRR_SST_METOP_B-sstmgr_metop01_20220709_204903-v02.0-fv01.0.nc\n",
      "https://osi-saf.ifremer.fr/sst/l2p/global/avhrr_metop_b/2022/190/20220709204603-OSISAF-L2P_GHRSST-SSTsubskin-AVHRR_SST_METOP_B-sstmgr_metop01_20220709_204603-v02.0-fv01.0.nc\n",
      "20220709204603-OSISAF-L2P_GHRSST-SSTsubskin-AVHRR_SST_METOP_B-sstmgr_metop01_20220709_204603-v02.0-fv01.0.nc\n",
      "https://osi-saf.ifremer.fr/sst/l2p/global/avhrr_metop_b/2022/190/20220709222803-OSISAF-L2P_GHRSST-SSTsubskin-AVHRR_SST_METOP_B-sstmgr_metop01_20220709_222803-v02.0-fv01.0.nc\n",
      "20220709222803-OSISAF-L2P_GHRSST-SSTsubskin-AVHRR_SST_METOP_B-sstmgr_metop01_20220709_222803-v02.0-fv01.0.nc\n"
     ]
    }
   ],
   "source": [
    "# parse granules and download files\n",
    "xml_resultfile = xml.dom.minidom.parse('searchresult.xml')\n",
    "link_list = xml_resultfile.getElementsByTagName('link')\n",
    "granule_number = link_list.length / 3\n",
    "print(\"%d granules\" % granule_number)\n",
    "for link in link_list:\n",
    "    if link.getAttribute('title') == \"HTTPS\" :\n",
    "        url = link.getAttribute('href')\n",
    "        print(url)\n",
    "        r = requests.get(url, auth=(username, password), verify=False)\n",
    "        # r.raw.decode_content = True\n",
    "        filename = url.rsplit('/', 1)[1]\n",
    "        print(filename)\n",
    "        with open('products/metagranules/' + filename, 'wb') as f:\n",
    "           f.write(r.content)"
   ]
  },
  {
   "cell_type": "markdown",
   "metadata": {},
   "source": [
    "<a href=\"../Index.ipynb\" target=\"_blank\"><< Index</a>\n",
    "<br>\n",
    "<a href=\"./1_1b_OSI_SAF_SST_data_access_IFREMER_FTP.ipynb\" target=\"_blank\">NEXT NOTEBOOK >></a>\n",
    "<hr>\n",
    "<a href=\"https://gitlab.eumetsat.int/eumetlab/ocean\">View on GitLab</a> | <a href=\"https://training.eumetsat.int/\">EUMETSAT Training</a> | <a href=mailto:ops@eumetsat.int>Contact helpdesk for support </a> | <a href=mailto:Copernicus.training@eumetsat.int>Contact our training team to collaborate on and reuse this material</a></span></p>"
   ]
  }
 ],
 "metadata": {
  "author": "Ben Loveday, Hayley Evers-King",
  "description": "This Jupyter Notebook covers the file structure of OLCI level-1B and level-2 products.",
  "github": "https://github.com/wekeo/learn-olci/blob/main/1_OLCI_introductory/1_2_OLCI_file_structure.ipynb",
  "image": "../img/thumbs/1_2_OLCI_file_structure_thumb.png",
  "kernelspec": {
   "display_name": "Python 3 (ipykernel)",
   "language": "python",
   "name": "python3"
  },
  "language_info": {
   "codemirror_mode": {
    "name": "ipython",
    "version": 3
   },
   "file_extension": ".py",
   "mimetype": "text/x-python",
   "name": "python",
   "nbconvert_exporter": "python",
   "pygments_lexer": "ipython3",
   "version": "3.10.5"
  },
  "link": "https://jupyterhub-wekeo.apps.eumetsat.dpi.wekeo.eu/hub/user-redirect/lab/tree/public/ocean/learn-olci/1_OLCI_introductory/1_2_OLCI_file_structure.ipynb",
  "tags": {
   "domain": "Ocean",
   "platform": "Sentinel-3",
   "sensor": "OLCI",
   "tags": [
    "Top-of-atmosphere radiance",
    "Water leaving reflectance",
    "Ocean colour"
   ]
  },
  "title": "OLCI file structure"
 },
 "nbformat": 4,
 "nbformat_minor": 4
}
