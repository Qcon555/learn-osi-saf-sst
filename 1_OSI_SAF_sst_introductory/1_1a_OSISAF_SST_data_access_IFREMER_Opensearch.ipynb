{
 "cells": [
  {
   "cell_type": "markdown",
   "metadata": {},
   "source": [
    "<img src='https://gitlab.eumetsat.int/eumetlab/oceans/ocean-training/tools/frameworks/-/raw/main/img/OSI-SAF_banner.png' align='right' width='100%'/>"
   ]
  },
  {
   "cell_type": "markdown",
   "metadata": {},
   "source": [
    "<a href=\"../Index.ipynb\" target=\"_blank\"><< Index</a>\n",
    "<br>\n",
    "<a href=\"./1_?_link_to_prev_notebook.ipynb\" target=\"_blank\"><< PREV NOTEBOOK</a>&nbsp;&nbsp;&nbsp;&nbsp;&nbsp;<a href=\"./1_?_link_to_next_notebook.ipynb\" target=\"_blank\">NEXT NOTEBOOK >></a>"
   ]
  },
  {
   "cell_type": "markdown",
   "metadata": {},
   "source": [
    "<font color=\"#138D75\">**EUMETSAT OSI SAF Training Service**</font> <br>\n",
    "**Copyright:** 2022 EUMETSAT <br>\n",
    "**License:** MIT"
   ]
  },
  {
   "cell_type": "markdown",
   "metadata": {},
   "source": [
    "<div class=\"alert alert-block alert-success\">\n",
    "<h3>Learn OSI SAF sea surface temperature: Introductory</h3></div>"
   ]
  },
  {
   "cell_type": "markdown",
   "metadata": {},
   "source": [
    "<div class=\"alert alert-block alert-warning\">\n",
    "    \n",
    "<b>PREREQUISITES </b>\n",
    "    \n",
    "This notebook has the following prerequisites:\n",
    "- **COMPLETE WITH ANY PRE-REQUISITES (e.g. account access), IF ANY**\n",
    "\n",
    "There are no prerequisite notebooks for this module.\n",
    "- **COMPLETE WITH ANY PRE-REQUISITE NOTEBOOKS, IF ANY**\n",
    "    \n",
    "</div>\n",
    "<hr>"
   ]
  },
  {
   "cell_type": "markdown",
   "metadata": {},
   "source": [
    "# 1.1 Access Metop SST Metagranules - IFREMER Opensearch\n",
    "### Data used \n",
    "\n",
    "| Product Description | Product Navigator | OSI SAF website link | OSI SAF Identifier |\n",
    "|:--------------------:|:-------------:|:-----------------:|:-----------------:|\n",
    "| Full resolution Metop-B Sea Surface Temperature metagranules | EO:EUM:DAT:METOP:MGR-SST | <a href=\"https://osi-saf.eumetsat.int/products/osi-204-b\" target=\"_blank\">link</a>| OSI-204-b | \n",
    "| Full resolution Metop-C Sea Surface Temperature metagranules | EO:EUM:DAT:METOP:MGR-SST | <a href=\"https://osi-saf.eumetsat.int/products/osi-204-c\" target=\"_blank\">link</a>| OSI-204-c | \n",
    "\n",
    "\n",
    "### Learning outcomes\n",
    "\n",
    "At the end of this notebook you will know;\n",
    "* What the GHRSST format is\n",
    "* What components are inside a GHRSST format file from OSI SAF\n",
    "\n",
    "### Outline \n",
    "\n",
    "All OSI SAF SST are delivered in netCDF and follow the \"**GHRSST format**\". The Group for High Resolution Sea Surface Temperature (GHRSST) is an open international science group that promotes the application of satellites for monitoring sea surface temperature (SST) by enabling SST data producers, users and scientists to collaborate within an agreed framework of best practice. GHRSST provides a framework for SST data sharing, best practices for data processing and a forum for scientific dialog, bringing SST to the user. The GHRSST format follows specifications for specific utilisation in the Earth Observation domain, providing semantics in the same domain to improve interoperability between SST products from different agencies.\n",
    "\n",
    "\n",
    "Each product includes:\n",
    "\n",
    "* measurement data files (NetCDF-4 format)\n",
    "\n",
    "<div class=\"alert alert-info\" role=\"alert\">\n",
    "\n",
    "## <a id='TOC_TOP'></a>Contents\n",
    "\n",
    "</div>\n",
    "\n",
    " 1. [Definining satellite names](#section1)\n",
    " 1. [Setting query parameters](#section2)\n",
    " 1. [Importing IFREMER HTTPS credentials](#section3)\n",
    " 1. [Launching an OpenSearch request](#section4)\n",
    "\n",
    "<hr>"
   ]
  },
  {
   "cell_type": "code",
   "execution_count": 1,
   "metadata": {},
   "outputs": [],
   "source": [
    "# library imports\n",
    "\n",
    "import os\n",
    "import requests         # a library that helps us acquire data across the web\n",
    "import xml.dom.minidom  # a library that helps us parse XML files\n",
    "import json             # a library that helps us make JSON format files\n",
    "import warnings         # a library that manages Python warnings\n",
    "\n",
    "warnings.filterwarnings('ignore')"
   ]
  },
  {
   "cell_type": "markdown",
   "metadata": {},
   "source": [
    "<div class=\"alert alert-info\" role=\"alert\">\n",
    "\n",
    "## <a id='section1'></a>1. Defining satellite names\n",
    "[Back to top](#TOC_TOP)\n",
    "\n",
    "</div>"
   ]
  },
  {
   "cell_type": "markdown",
   "metadata": {},
   "source": [
    "This first section allows to set the satellite names in order to define a related OpenSearch query"
   ]
  },
  {
   "cell_type": "code",
   "execution_count": 2,
   "metadata": {
    "scrolled": true
   },
   "outputs": [],
   "source": [
    "# setting satellite names\n",
    "SST_MetOpA = \"avhrr_sst_metop_a-osisaf-l2p-v1.0\"\n",
    "SST_MetOpB = \"avhrr_sst_metop_b-osisaf-l2p-v1.0\"\n",
    "SST_MetOpC = \"avhrr_sst_metop_c-osisaf-l2p-v1.0\""
   ]
  },
  {
   "cell_type": "markdown",
   "metadata": {},
   "source": [
    "<div class=\"alert alert-info\" role=\"alert\">\n",
    "\n",
    "## <a id='section2'></a>2. Setting query parameters\n",
    "[Back to top](#TOC_TOP)\n",
    "\n",
    "</div>"
   ]
  },
  {
   "cell_type": "markdown",
   "metadata": {},
   "source": [
    "Setting Date, Time, Satellite and Lat°xLon° box.\n",
    "Configure your selection"
   ]
  },
  {
   "cell_type": "code",
   "execution_count": 3,
   "metadata": {},
   "outputs": [],
   "source": [
    "YYYY = \"2022\"\n",
    "MM = \"07\"\n",
    "DD = \"09\"\n",
    "satellite = SST_MetOpB\n",
    "lon_min = \"-8\"\n",
    "lon_max = \"3\"\n",
    "lat_min = \"45\"\n",
    "lat_max = \"51\""
   ]
  },
  {
   "cell_type": "markdown",
   "metadata": {},
   "source": [
    "Setting connection information"
   ]
  },
  {
   "cell_type": "markdown",
   "metadata": {},
   "source": [
    "<div class=\"alert alert-info\" role=\"alert\">\n",
    "\n",
    "## <a id='section3'></a>3. Importing IFREMER HTTPS credentials\n",
    "[Back to top](#TOC_TOP)\n",
    "\n",
    "</div>"
   ]
  },
  {
   "cell_type": "markdown",
   "metadata": {},
   "source": [
    "In order to access SST data from the IFREMER HTTPS server you will need to supply access credentials in the form of a username and password. You can apply for these once you register for an <a href=\"https://osi-saf.eumetsat.int/register\">**OSI SAF account**</a>. We can pass these credentials to this notebook in two ways; either by creating a file called `.osisaf_credentials` in our home directory (*option 1 - recommended*) or by supplying our credentials directly in this script (*option 2*). \n",
    "\n",
    "<div class=\"alert alert-block alert-success\">\n",
    "\n",
    "#### Option 1: creating  `.osisaf_credentials` in your home directory\n",
    "\n",
    "For most computer systems the home directory can be found at the path \\user\\username, /users/username, or /home/username depending on your operating system. In this file we need to add the following information as follows;\n",
    "\n",
    "```\n",
    "{\"ifremer_https\":\n",
    "    {\"username\": \"<your_username>\",\n",
    "     \"password\": \"<your_password>\"\n",
    "    }\n",
    "}\n",
    "```\n",
    "\n",
    "You must replace `<your_username>` and `<your_password>` with the credential information you receive from OSI SAF. Make sure to save the file without any kind of extension. Once you have done this, you can read in your credentials using the commands in the following cell with `file_credentials = True`.\n",
    "\n",
    "</div>\n",
    "    \n",
    "<div class=\"alert alert-danger\" role=\"alert\">\n",
    "\n",
    "#### Option 2: Entering credentials directly by entering your credentials in the notebook as follows*\n",
    "   \n",
    "Alternatively you can enter your credentials directly in the notebook by updating the following lines with your user specific information and setting `file_credentials = False`.\n",
    "\n",
    "```\n",
    "    credentials[\"username\"] = \"<your_username>\"\n",
    "    credentials[\"password\"] = \"<your_password>\"\n",
    "```\n",
    "\n",
    "However, while this method is convenient in the short term, it is not really recommended as you run the risk of accidentally sharing your credentials. This method also requires you to authenticate on a notebook-by-notebook basis.\n",
    "    \n",
    "<div>"
   ]
  },
  {
   "cell_type": "code",
   "execution_count": 4,
   "metadata": {},
   "outputs": [],
   "source": [
    "# load credentials\n",
    "file_credentials = True\n",
    "\n",
    "if file_credentials == True:\n",
    "    with open(os.path.join(os.path.expanduser(\"~\"),'.osisaf_credentials')) as json_file:\n",
    "        file = json.load(json_file)\n",
    "        credentials = file[\"ifremer_https\"]\n",
    "else:\n",
    "    # see below for more information\n",
    "    credentials = {}\n",
    "    credentials[\"username\"] = \"<your_username>\"\n",
    "    credentials[\"password\"] = \"<your_password>\""
   ]
  },
  {
   "cell_type": "markdown",
   "metadata": {},
   "source": [
    "<div class=\"alert alert-info\" role=\"alert\">\n",
    "\n",
    "## <a id='section4'></a>4. Launching an OpenSearch request\n",
    "[Back to top](#TOC_TOP)\n",
    "\n",
    "</div>"
   ]
  },
  {
   "cell_type": "code",
   "execution_count": 5,
   "metadata": {},
   "outputs": [],
   "source": [
    "session = requests.Session()\n",
    "opensearch = requests.get('https://opensearch.ifremer.fr/granules.atom?'\\\n",
    "                          'datasetId=' + satellite + \\\n",
    "                          '&startPage=0&count=1000&'\\\n",
    "                          'timeStart='+YYYY+'-'+MM+'-'+DD+'T00:00:00Z&'\\\n",
    "                          'timeEnd='+YYYY+'-'+MM+'-'+DD+'T23:59:59Z&'\\\n",
    "                          'geoBox='+lon_min+','+lat_min+','+lon_max+','+lat_max, verify=False)\n",
    "searchresult = open('searchresult.xml','w')\n",
    "searchresult.write(opensearch.text)\n",
    "searchresult.close()"
   ]
  },
  {
   "cell_type": "code",
   "execution_count": 6,
   "metadata": {},
   "outputs": [
    {
     "name": "stdout",
     "output_type": "stream",
     "text": [
      "7 granules\n",
      "https://osi-saf.ifremer.fr/sst/l2p/global/avhrr_metop_b/2022/190/20220709190703-OSISAF-L2P_GHRSST-SSTsubskin-AVHRR_SST_METOP_B-sstmgr_metop01_20220709_190703-v02.0-fv01.0.nc\n",
      "20220709190703-OSISAF-L2P_GHRSST-SSTsubskin-AVHRR_SST_METOP_B-sstmgr_metop01_20220709_190703-v02.0-fv01.0.nc\n"
     ]
    },
    {
     "ename": "FileNotFoundError",
     "evalue": "[Errno 2] No such file or directory: 'data/20220709190703-OSISAF-L2P_GHRSST-SSTsubskin-AVHRR_SST_METOP_B-sstmgr_metop01_20220709_190703-v02.0-fv01.0.nc'",
     "output_type": "error",
     "traceback": [
      "\u001b[0;31m---------------------------------------------------------------------------\u001b[0m",
      "\u001b[0;31mFileNotFoundError\u001b[0m                         Traceback (most recent call last)",
      "Cell \u001b[0;32mIn [6], line 14\u001b[0m\n\u001b[1;32m     12\u001b[0m filename \u001b[38;5;241m=\u001b[39m url\u001b[38;5;241m.\u001b[39mrsplit(\u001b[38;5;124m'\u001b[39m\u001b[38;5;124m/\u001b[39m\u001b[38;5;124m'\u001b[39m, \u001b[38;5;241m1\u001b[39m)[\u001b[38;5;241m1\u001b[39m]\n\u001b[1;32m     13\u001b[0m \u001b[38;5;28mprint\u001b[39m(filename)\n\u001b[0;32m---> 14\u001b[0m \u001b[38;5;28;01mwith\u001b[39;00m \u001b[38;5;28mopen\u001b[39m(\u001b[38;5;124m'\u001b[39m\u001b[38;5;124mdata/\u001b[39m\u001b[38;5;124m'\u001b[39m \u001b[38;5;241m+\u001b[39m filename, \u001b[38;5;124m'\u001b[39m\u001b[38;5;124mwb\u001b[39m\u001b[38;5;124m'\u001b[39m) \u001b[38;5;28;01mas\u001b[39;00m f:\n\u001b[1;32m     15\u001b[0m    f\u001b[38;5;241m.\u001b[39mwrite(r\u001b[38;5;241m.\u001b[39mcontent)\n",
      "\u001b[0;31mFileNotFoundError\u001b[0m: [Errno 2] No such file or directory: 'data/20220709190703-OSISAF-L2P_GHRSST-SSTsubskin-AVHRR_SST_METOP_B-sstmgr_metop01_20220709_190703-v02.0-fv01.0.nc'"
     ]
    }
   ],
   "source": [
    "# parse granules and download files\n",
    "xml_resultfile = xml.dom.minidom.parse('searchresult.xml')\n",
    "link_list = xml_resultfile.getElementsByTagName('link')\n",
    "granule_number = link_list.length / 3\n",
    "print(\"%d granules\" % granule_number)\n",
    "for link in link_list:\n",
    "    if link.getAttribute('title') == \"HTTPS\" :\n",
    "        url = link.getAttribute('href')\n",
    "        print(url)\n",
    "        r = requests.get(url, auth=(credentials[\"username\"], credentials[\"password\"]), verify=False)\n",
    "        # r.raw.decode_content = True\n",
    "        filename = url.rsplit('/', 1)[1]\n",
    "        print(filename)\n",
    "        with open('data/' + filename, 'wb') as f:\n",
    "           f.write(r.content)"
   ]
  },
  {
   "cell_type": "markdown",
   "metadata": {},
   "source": [
    "<hr>\n",
    "<a href=\"../Index.ipynb\" target=\"_blank\"><< Index</a>\n",
    "<br>\n",
    "<a href=\"./1_?_link_to_prev_notebook.ipynb\" target=\"_blank\"><< PREV NOTEBOOK</a>&nbsp;&nbsp;&nbsp;&nbsp;&nbsp;<a href=\"./1_?_link_to_next_notebook.ipynb\" target=\"_blank\">NEXT NOTEBOOK >></a>\n",
    "<hr>\n",
    "<a href=\"https://gitlab.eumetsat.int/eumetlab/ocean\">View on GitLab</a> | <a href=\"https://training.eumetsat.int/\">EUMETSAT Training</a> | <a href=mailto:ops@eumetsat.int>Contact helpdesk for support </a> | <a href=mailto:Copernicus.training@eumetsat.int>Contact our training team to collaborate on and reuse this material</a></span></p>"
   ]
  }
 ],
 "metadata": {
  "author": "Ben Loveday, Hayley Evers-King",
  "description": "This Jupyter Notebook covers the file structure of OLCI level-1B and level-2 products.",
  "github": "https://github.com/wekeo/learn-olci/blob/main/1_OLCI_introductory/1_2_OLCI_file_structure.ipynb",
  "image": "../img/thumbs/1_2_OLCI_file_structure_thumb.png",
  "kernelspec": {
   "display_name": "Python 3 (ipykernel)",
   "language": "python",
   "name": "python3"
  },
  "language_info": {
   "codemirror_mode": {
    "name": "ipython",
    "version": 3
   },
   "file_extension": ".py",
   "mimetype": "text/x-python",
   "name": "python",
   "nbconvert_exporter": "python",
   "pygments_lexer": "ipython3",
   "version": "3.9.13"
  },
  "link": "https://jupyterhub-wekeo.apps.eumetsat.dpi.wekeo.eu/hub/user-redirect/lab/tree/public/ocean/learn-olci/1_OLCI_introductory/1_2_OLCI_file_structure.ipynb",
  "tags": {
   "domain": "Ocean",
   "platform": "Sentinel-3",
   "sensor": "OLCI",
   "tags": [
    "Top-of-atmosphere radiance",
    "Water leaving reflectance",
    "Ocean colour"
   ]
  },
  "title": "OLCI file structure"
 },
 "nbformat": 4,
 "nbformat_minor": 2
}
