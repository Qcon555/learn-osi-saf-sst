{
 "cells": [
  {
   "cell_type": "markdown",
   "metadata": {},
   "source": [
    "<img src='https://gitlab.eumetsat.int/eumetlab/oceans/ocean-training/tools/frameworks/-/raw/main/img/OSI-SAF_banner.png' align='right' width='100%'/>"
   ]
  },
  {
   "cell_type": "markdown",
   "metadata": {},
   "source": [
    "<a href=\"../Index.ipynb\" target=\"_blank\"><< Index</a>\n",
    "<br>\n",
    "<a href=\"./1_1a_OSI_SAF_SST_data_access_IFREMER_Opensearch.ipynb\" target=\"_blank\"><< Accessing Metop SST metagranule data through IFREMER opensearch queries</a>&nbsp;&nbsp;&nbsp;&nbsp;&nbsp;<a href=\"./1_2_OSI_SAF_SST_file_structure.ipynb\" target=\"_blank\">Exploring OSI SAF SST product structure >></a>"
   ]
  },
  {
   "cell_type": "markdown",
   "metadata": {},
   "source": [
    "<font color=\"#138D75\">**EUMETSAT OSI SAF Training Service**</font> <br>\n",
    "**Copyright:** 2023 EUMETSAT <br>\n",
    "**License:** MIT"
   ]
  },
  {
   "cell_type": "markdown",
   "metadata": {},
   "source": [
    "<html>\n",
    "  <div style=\"width:100%\">\n",
    "    <div style=\"float:left\"><a href=\"https://mybinder.org/v2/git/https%3A%2F%2Fgitlab.eumetsat.int%2Feumetlab%2Foceans%2Focean-training%2Fsensors%2Flearn-osi-saf-sst/HEAD?urlpath=%2Ftree%2F1_OSI_SAF_sst_introductory%2F1_1b_OSI_SAF_SST_data_access_IFREMER_FTP.ipynb\"><img src=\"https://mybinder.org/badge_logo.svg\" alt=\"Open in Binder\"></a></div>\n",
    "    <div style=\"float:left\"><p>&emsp;</p></div>\n",
    "  </div>\n",
    "</html>"
   ]
  },
  {
   "cell_type": "markdown",
   "metadata": {},
   "source": [
    "<div class=\"alert alert-block alert-success\">\n",
    "<h3>Learn OSI SAF sea surface temperature: Introductory</h3></div>"
   ]
  },
  {
   "cell_type": "markdown",
   "metadata": {},
   "source": [
    "<div class=\"alert alert-block alert-warning\">\n",
    "    \n",
    "<b>PREREQUISITES </b>\n",
    "    \n",
    "This notebook has the following prerequisites:\n",
    "- **<a href=\"https://osi-saf.eumetsat.int/register\" target=\"_blank\">A EUMETSAT OSI SAF account</a>** if you are using or plan to use the EUMETSAT OSI SAF data.\n",
    "\n",
    "There are no prerequisite notebooks for this module.\n",
    "</div>\n",
    "<hr>"
   ]
  },
  {
   "cell_type": "markdown",
   "metadata": {},
   "source": [
    "# 1.1b Accessing OSI SAF SST products through the IFREMER FTP server\n",
    "### Data used \n",
    "\n",
    "| Product Description | Product Navigator | OSI SAF website link | OSI SAF Identifier |\n",
    "|:--------------------:|:-------------:|:-----------------:|:-----------------:|\n",
    "| Global Metop Sea Surface Temperature | EO:EUM:DAT:METOP:GLB-SST-NC | <a href=\"https://osi-saf.eumetsat.int/products/osi-201-b\" target=\"_blank\">link</a>| OSI-201-b | \n",
    "| Meteosat Sea Surface Temperature | EO:EUM:DAT:METEOSAT:OSIHSST-NC | <a href=\"https://osi-saf.eumetsat.int/products/osi-206-a\" target=\"_blank\">link</a>| OSI-206-a | \n",
    "\n",
    "\n",
    "### Learning outcomes\n",
    "\n",
    "At the end of this notebook you will know;\n",
    "* How to download different OSI SAF sea surface temperature (SST) products using FTP access\n",
    "\n",
    "### Outline\n",
    "\n",
    "Data from OSI SAF is available through multiple sources. Here we will guide you through FTP access to OSI SAF SST Data.\n",
    "\n",
    "<div class=\"alert alert-info\" role=\"alert\">\n",
    "\n",
    "## <a id='TOC-TOP'></a>Contents\n",
    "\n",
    "</div>\n",
    "    \n",
    " 1. [Creating our workspace](#section1)\n",
    " 1. [Setting login information](#section2)\n",
    " 1. [Downloading via FTP requests](#section3)\n",
    "\n",
    "<hr>"
   ]
  },
  {
   "cell_type": "markdown",
   "metadata": {},
   "source": [
    "<div class=\"alert alert-info\" role=\"alert\">\n",
    "\n",
    "## <a id='section1'></a>1. Creating the workspace\n",
    "[Back to top](#TOC-TOP)\n",
    "\n",
    "</div>\n",
    "\n",
    "We begin by importing all of the libraries that we need to run this notebook. If you have built your python using the environment file provided in this repository, then you should have everything you need. For more information on building environment, please see the repository **<a href=\"../README.md\" target=\"_blank\">README</a>**."
   ]
  },
  {
   "cell_type": "code",
   "execution_count": 1,
   "metadata": {},
   "outputs": [],
   "source": [
    "# library imports \n",
    "import os           # a library that allows to access to basic operating system commands like making directories\n",
    "import json         # a library that helps with JSON format files\n",
    "import ftplib       # a library that supports FTP protocol use\n",
    "import warnings     # a library that controls python warnings\n",
    "warnings.filterwarnings('ignore')"
   ]
  },
  {
   "cell_type": "markdown",
   "metadata": {},
   "source": [
    "Next we will create a download directory to store the products we will download in this notebook."
   ]
  },
  {
   "cell_type": "code",
   "execution_count": 2,
   "metadata": {},
   "outputs": [],
   "source": [
    "download_dir = os.path.join(os.getcwd(), \"products\")\n",
    "os.makedirs(download_dir, exist_ok=True)"
   ]
  },
  {
   "cell_type": "markdown",
   "metadata": {},
   "source": [
    "<div class=\"alert alert-info\" role=\"alert\">\n",
    "\n",
    "## <a id='section2'></a>2. Setting login information\n",
    "[Back to top](#TOC-TOP)\n",
    "\n",
    "</div>\n",
    "\n",
    "We will access OSI SAF data from the OSI SAF Lower-Mid-Latitude Centre FTP server.\n",
    "\n",
    "In order to allow us to download data, we need to provide our credentials. We can do this in two ways; either by creating a file called `.eumetsat_osi_saf_sst_credentials` in our home directory (*option 1 - recommended*) or by supplying our credentials directly in this script (*option 2*). \n",
    "\n",
    "#### Option 1: creating  `.eumetsat_osi_saf_sst_credentials` in our home directory\n",
    "\n",
    "For most computer systems the home directory can be found at the path \\user\\username, /users/username, or /home/username depending on your operating system.\n",
    "\n",
    "In this file we need to add the following information exactly as follows;\n",
    "\n",
    "```\n",
    "{\n",
    "\"username\": \"<provided_username>\",\n",
    "\"password\": \"<provided_password>\"\n",
    "}\n",
    "```\n",
    "\n",
    "You must replace `<provided_username>` and `<provided_password>` with the information provided to you after you have registered to the OSI SAF website and mentionned your interest in Sea Ice data. \n",
    "\n",
    "Once you have created an <a href=\"https://osi-saf.eumetsat.int/register\" target=\"_blank\">EUMETSAT OSI SAF account</a>, the generic password and credentials to access OSI SAF Lower-Mid-Latitude Centre server should have been sent to you via email.\n",
    "\n",
    "Make sure to save the file without any kind of extension.\n",
    "\n",
    "Once you have done this, you can read in your credentials using the commands in the following cell. These will be used to generate a time-limited token, which will refresh itself when it expires."
   ]
  },
  {
   "cell_type": "markdown",
   "metadata": {},
   "source": [
    "Reading credential information"
   ]
  },
  {
   "cell_type": "code",
   "execution_count": 3,
   "metadata": {},
   "outputs": [],
   "source": [
    "# read credentials\n",
    "with open(os.path.join(os.path.expanduser(\"~\"),'.eumetsat_osi_saf_sst_credentials')) as json_file:\n",
    "    credentials = json.load(json_file)"
   ]
  },
  {
   "cell_type": "markdown",
   "metadata": {},
   "source": [
    "Loading credentials"
   ]
  },
  {
   "cell_type": "code",
   "execution_count": 4,
   "metadata": {},
   "outputs": [],
   "source": [
    "username = credentials['username'] \n",
    "password = credentials['password']"
   ]
  },
  {
   "cell_type": "markdown",
   "metadata": {},
   "source": [
    "Option 2: provide credentials directly\n",
    "You can provide your credentials directly as follows; by uncommenting the following lines."
   ]
  },
  {
   "cell_type": "code",
   "execution_count": 5,
   "metadata": {},
   "outputs": [],
   "source": [
    "#username = \"<provided_username>\"\n",
    "#password = \"<provided_password>\""
   ]
  },
  {
   "cell_type": "markdown",
   "metadata": {},
   "source": [
    "You must replace <provided_username> and <provided_password> with the information provided to you after you have registered to the OSI SAF website and mentionned your interest in SST data.\n",
    "\n",
    "Once you have created an EUMETSAT OSI SAF account, the generic password and credentials to access OSI SAF Lower-Mid-Latitude  server should have been sent to you via email.\n",
    "\n",
    "Note: this method is convenient in the short term, but is not really recommended as you have to put your provided username and password in this notebook, and run the risk of accidentally sharing them. This method also requires you to authenticate on a notebook-by-notebook basis."
   ]
  },
  {
   "cell_type": "markdown",
   "metadata": {},
   "source": [
    "<div class=\"alert alert-danger\" role=\"alert\">\n",
    "\n",
    "## <a id='section3'></a>3. Launch FTP requests\n",
    "[Back to top](#TOC-TOP)\n",
    "\n",
    "</div>"
   ]
  },
  {
   "cell_type": "markdown",
   "metadata": {},
   "source": [
    "### Global Metop Sea Surface Temperature :\n",
    "\n",
    "Let's start by creating a specific folder to hold the Global Metop Sea Surface products"
   ]
  },
  {
   "cell_type": "code",
   "execution_count": 6,
   "metadata": {},
   "outputs": [],
   "source": [
    "download_dir = os.path.join(os.getcwd(), \"products/global\")\n",
    "os.makedirs(download_dir, exist_ok=True)"
   ]
  },
  {
   "cell_type": "markdown",
   "metadata": {},
   "source": [
    "Set the download path"
   ]
  },
  {
   "cell_type": "code",
   "execution_count": 7,
   "metadata": {},
   "outputs": [],
   "source": [
    "path = '/cersat-rt/project/osi-saf/data/sst/l3c/global/glob_avhrr_metop_b/2022/244/'\n",
    "filename = '20220901000000-OSISAF-L3C_GHRSST-SSTsubskin-AVHRR_SST_METOP_B_GLB-sstglb_metop01_20220901_000000-v02.0-fv01.0.nc'"
   ]
  },
  {
   "cell_type": "code",
   "execution_count": 8,
   "metadata": {},
   "outputs": [
    {
     "data": {
      "text/plain": [
       "'221 Goodbye.'"
      ]
     },
     "execution_count": 8,
     "metadata": {},
     "output_type": "execute_result"
    }
   ],
   "source": [
    "# connect ftp and download file\n",
    "ftp = ftplib.FTP(\"eftp1.ifremer.fr\") \n",
    "ftp.login(username, password)\n",
    "ftp.cwd(path)\n",
    "ftp.retrbinary(\"RETR \" + filename, open('products/global/' + filename, 'wb').write)\n",
    "ftp.quit()"
   ]
  },
  {
   "cell_type": "markdown",
   "metadata": {},
   "source": [
    "### Meteosat Sea Surface Temperature :\n",
    "\n",
    "Let's start by creating a specific folder to hold the Meteosat Sea Surface Temperature products"
   ]
  },
  {
   "cell_type": "code",
   "execution_count": 9,
   "metadata": {},
   "outputs": [],
   "source": [
    "download_dir = os.path.join(os.getcwd(), \"products/meteosat\")\n",
    "os.makedirs(download_dir, exist_ok=True)"
   ]
  },
  {
   "cell_type": "markdown",
   "metadata": {},
   "source": [
    "Set the download path"
   ]
  },
  {
   "cell_type": "code",
   "execution_count": 10,
   "metadata": {},
   "outputs": [],
   "source": [
    "path = '/cersat-rt/project/osi-saf/data/sst/l3c/east_atlantic_west_indian/meteosat/2022/244'\n",
    "filename = '20220901120000-OSISAF-L3C_GHRSST-SSTsubskin-SEVIRI_SST-ssteqc_meteosat11_20220901_120000-v02.0-fv01.0.nc'"
   ]
  },
  {
   "cell_type": "code",
   "execution_count": 11,
   "metadata": {},
   "outputs": [
    {
     "data": {
      "text/plain": [
       "'221 Goodbye.'"
      ]
     },
     "execution_count": 11,
     "metadata": {},
     "output_type": "execute_result"
    }
   ],
   "source": [
    "# connect ftp and download file\n",
    "ftp = ftplib.FTP(\"eftp1.ifremer.fr\") \n",
    "ftp.login(username, password)\n",
    "ftp.cwd(path)\n",
    "ftp.retrbinary(\"RETR \" + filename, open('products/meteosat/' + filename, 'wb').write)\n",
    "ftp.quit()"
   ]
  },
  {
   "cell_type": "markdown",
   "metadata": {},
   "source": [
    "<a href=\"../Index.ipynb\" target=\"_blank\"><< Index</a>\n",
    "<br>\n",
    "<a href=\"./1_1a_OSI_SAF_SST_data_access_IFREMER_Opensearch.ipynb\" target=\"_blank\"><< Accessing Metop SST metagranule data through IFREMER opensearch queries</a>&nbsp;&nbsp;&nbsp;&nbsp;&nbsp;<a href=\"./1_2_OSI_SAF_SST_file_structure.ipynb\" target=\"_blank\">Exploring OSI SAF SST product structure >></a>\n",
    "<hr>\n",
    "<a href=\"https://gitlab.eumetsat.int/eumetlab/ocean\">View on GitLab</a> | <a href=\"https://training.eumetsat.int/\">EUMETSAT Training</a> | <a href=mailto:ops@eumetsat.int>Contact helpdesk for support </a> | <a href=mailto:Copernicus.training@eumetsat.int>Contact our training team to collaborate on and reuse this material</a></span></p>"
   ]
  }
 ],
 "metadata": {
  "author": "Olivier Membrive, Cécile Hernandez, Stéphane Saux Picart, Ben Loveday, Hayley Evers-King",
  "description": "This Jupyter Notebook shows how to access Global Metop and Meteosat sea surface temperature (SST) files form IFREMER via FTP.",
  "image": "../img/thumbs/1_1b_OSI_SAF_SST_data_access_IFREMER_FTP_thumb.png",
  "kernelspec": {
   "display_name": "Python 3 (ipykernel)",
   "language": "python",
   "name": "python3"
  },
  "language_info": {
   "codemirror_mode": {
    "name": "ipython",
    "version": 3
   },
   "file_extension": ".py",
   "mimetype": "text/x-python",
   "name": "python",
   "nbconvert_exporter": "python",
   "pygments_lexer": "ipython3",
   "version": "3.9.13"
  },
  "services": {
   "eumetsat": {
    "git": {
     "link": "https://gitlab.eumetsat.int/eumetlab/oceans/ocean-training/sensors/learn-osi-saf-sst/-/blob/main/1_OSI_SAF_sst_introductory/1_1b_OSI_SAF_SST_data_access_IFREMER_FTP.ipynb",
     "service_contact": "ops@eumetsat.int",
     "service_provider": "EUMETSAT"
    },
    "binder": {
     "link": "https://mybinder.org/v2/git/https%3A%2F%2Fgitlab.eumetsat.int%2Feumetlab%2Foceans%2Focean-training%2Fsensors%2Flearn-osi-saf-sst/HEAD?urlpath=%2Ftree%2F1_OSI_SAF_sst_introductory%2F1_1b_OSI_SAF_SST_data_access_IFREMER_FTP.ipynb",
     "service_contact": "ops@eumetsat.int",
     "service_provider": "EUMETSAT"
    }
   },
   "wekeo": {
    "git": {
     "link": "",
     "service_contact": "...",
     "service_provider": "..."
    },
    "jupyter": {
     "link": "",
     "service_contact": "...",
     "service_provider": "..."
    }
   }
  },
  "tags": {
   "domain": "Marine",
   "platform": [
    "Metop-A",
    "Metop-B",
    "Metop-C",
    "MSG"
   ],
   "sensor": [
    "AVHRR",
    "SEVIRI"
   ],
   "service": "OSI SAF",
   "subtheme": [
    "Oceans and climate",
    "Ocean fluxes"
   ],
   "tags": "Sea surface temperature"
  },
  "title": "Accessing OSI SAF SST products through the IFREMER FTP server"
 },
 "nbformat": 4,
 "nbformat_minor": 2
}
